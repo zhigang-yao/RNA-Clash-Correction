{
 "cells": [
  {
   "cell_type": "markdown",
   "id": "e0aabe10-0de3-43b5-8b08-46227c718a3c",
   "metadata": {},
   "source": [
    "# Multiscale Correction"
   ]
  },
  {
   "cell_type": "code",
   "execution_count": null,
   "id": "47e09cf9-14a4-40e7-a639-f1146654b732",
   "metadata": {},
   "outputs": [],
   "source": [
    "import PSM\n",
    "from sklearn.cluster import DBSCAN"
   ]
  },
  {
   "cell_type": "markdown",
   "id": "cf2b299c-3bee-4a16-b015-94a9c0f149cd",
   "metadata": {},
   "source": [
    "### Clone the repository:"
   ]
  },
  {
   "cell_type": "markdown",
   "id": "08101479-3120-462a-b375-372a12f38a77",
   "metadata": {},
   "source": [
    "CLEAN-MINT-AGE method from the paper *Learning torus PCA-based classification for multiscale RNA correction with application to SARS-CoV-2*."
   ]
  },
  {
   "cell_type": "code",
   "execution_count": null,
   "id": "e9ffc4c4-6996-4ef6-adba-2aafaf6ba10c",
   "metadata": {},
   "outputs": [],
   "source": [
    "!git@gitlab.gwdg.de:henrik.wiechers1/clean-mintage-code.git"
   ]
  },
  {
   "cell_type": "markdown",
   "id": "a2f5f4e3-0560-413c-a2a4-c3759153d32a",
   "metadata": {},
   "source": [
    "### Revise some lines in the file shape_analysis.py"
   ]
  },
  {
   "cell_type": "markdown",
   "id": "c6213af3-cc8b-4d21-b740-71e59e207f5e",
   "metadata": {},
   "source": [
    "We change some lines in the function branch_cutting_with_correction and replace MINT-AGE part by PSM-DBSCAN."
   ]
  },
  {
   "cell_type": "code",
   "execution_count": null,
   "id": "ff969498-2f7f-4607-a144-6ad0a321c5a3",
   "metadata": {},
   "outputs": [],
   "source": [
    "def PSM_DBSCAN_for_RNA_suites(dihedral_angles_suites):\n",
    "    angles = utils.angle_to_cos_sin(np.radians(dihedral_angles_suites))\n",
    "    subm = psm(angles, 0.3, 5, rho=0.001, e_n=13)\n",
    "    subm = utils.cos_sin_to_angle(subm)\n",
    "    dbscan = DBSCAN(eps=0.3, min_samples=20)\n",
    "    clusters = dbscan.fit_predict(subm)\n",
    "    clusters = utils.convert_clusters_to_arrays(clusters)\n",
    "    outlier_list =  list(clusters[0])\n",
    "    cluster_list = clusters[1:]  \n",
    "    return cluster_list, outlier_list"
   ]
  },
  {
   "cell_type": "markdown",
   "id": "425ab32d-fd7b-461f-bced-c5c617b5a3c4",
   "metadata": {},
   "source": [
    "### Run the main code of multiscale correction"
   ]
  },
  {
   "cell_type": "code",
   "execution_count": null,
   "id": "df2b81c7-2569-4229-b9c4-4ddadf2ec3bf",
   "metadata": {},
   "outputs": [],
   "source": [
    "%run main_work_with_suites.py"
   ]
  }
 ],
 "metadata": {
  "kernelspec": {
   "display_name": "sub",
   "language": "python",
   "name": "sub"
  },
  "language_info": {
   "codemirror_mode": {
    "name": "ipython",
    "version": 3
   },
   "file_extension": ".py",
   "mimetype": "text/x-python",
   "name": "python",
   "nbconvert_exporter": "python",
   "pygments_lexer": "ipython3",
   "version": "3.8.18"
  }
 },
 "nbformat": 4,
 "nbformat_minor": 5
}
